{
 "cells": [
  {
   "cell_type": "code",
   "execution_count": 2,
   "metadata": {},
   "outputs": [],
   "source": [
    "import pandas as pd\n",
    "import numpy as np\n",
    "import random\n",
    "import matplotlib.pyplot as plt"
   ]
  },
  {
   "cell_type": "code",
   "execution_count": 3,
   "metadata": {},
   "outputs": [],
   "source": [
    "train = pd.read_csv(\"C:\\\\Users\\\\91944\\\\Desktop\\\\data\\\\sign_mnist_train.csv\")\n",
    "test = pd.read_csv(\"C:\\\\Users\\\\91944\\\\Desktop\\\\data\\\\sign_mnist_test.csv\")"
   ]
  },
  {
   "cell_type": "code",
   "execution_count": 4,
   "metadata": {},
   "outputs": [
    {
     "name": "stdout",
     "output_type": "stream",
     "text": [
      "(27455, 785)\n",
      "(7172, 785)\n"
     ]
    }
   ],
   "source": [
    "print(train.shape)\n",
    "print(test.shape)"
   ]
  },
  {
   "cell_type": "code",
   "execution_count": 5,
   "metadata": {},
   "outputs": [],
   "source": [
    "train_set = np.array(train, dtype = 'float32')\n",
    "test_set = np.array(test, dtype='float32')"
   ]
  },
  {
   "cell_type": "code",
   "execution_count": 7,
   "metadata": {},
   "outputs": [
    {
     "name": "stdout",
     "output_type": "stream",
     "text": [
      "The letter in the image is: O\n"
     ]
    },
    {
     "data": {
      "image/png": "[encoded data removed]",
      "text/plain": [
       "<Figure size 432x288 with 1 Axes>"
      ]
     },
     "metadata": {
      "needs_background": "light"
     },
     "output_type": "display_data"
    }
   ],
   "source": [
    "image_no = 550\n",
    "y_test = test_set[:,0]\n",
    "class_names = ['A', 'B', 'C', 'D', 'E', 'F', 'G', 'H', 'I', 'J','K', 'L', 'M', 'N', 'O', 'P', 'Q', 'R', 'S', 'T', 'U', 'V', 'W', 'X', 'Y' ]\n",
    "plt.imshow(test_set[image_no,1:].reshape(28,28))\n",
    "\n",
    "print(\"The letter in the image is:\",class_names[int(y_test[image_no])])"
   ]
  },
  {
   "cell_type": "code",
   "execution_count": 12,
   "metadata": {},
   "outputs": [
    {
     "name": "stdout",
     "output_type": "stream",
     "text": [
      "{0.0, 1.0, 2.0, 3.0, 4.0, 5.0, 6.0, 7.0, 8.0, 10.0, 11.0, 12.0, 13.0, 14.0, 15.0, 16.0, 17.0, 18.0, 19.0, 20.0, 21.0, 22.0, 23.0, 24.0}\n"
     ]
    }
   ],
   "source": [
    "print(set(y_test))"
   ]
  },
  {
   "cell_type": "code",
   "execution_count": 9,
   "metadata": {},
   "outputs": [
    {
     "ename": "TypeError",
     "evalue": "'(slice(None, None, None), 0)' is an invalid key",
     "output_type": "error",
     "traceback": [
      "\u001b[1;31m---------------------------------------------------------------------------\u001b[0m",
      "\u001b[1;31mTypeError\u001b[0m                                 Traceback (most recent call last)",
      "\u001b[1;32m<ipython-input-9-916ec83370d3>\u001b[0m in \u001b[0;36m<module>\u001b[1;34m\u001b[0m\n\u001b[1;32m----> 1\u001b[1;33m \u001b[0mprint\u001b[0m\u001b[1;33m(\u001b[0m\u001b[0mtest\u001b[0m\u001b[1;33m[\u001b[0m\u001b[1;33m:\u001b[0m\u001b[1;33m,\u001b[0m\u001b[1;36m0\u001b[0m\u001b[1;33m]\u001b[0m\u001b[1;33m)\u001b[0m\u001b[1;33m\u001b[0m\u001b[1;33m\u001b[0m\u001b[0m\n\u001b[0m",
      "\u001b[1;32m~\\Anaconda3\\lib\\site-packages\\pandas\\core\\frame.py\u001b[0m in \u001b[0;36m__getitem__\u001b[1;34m(self, key)\u001b[0m\n\u001b[0;32m   2978\u001b[0m             \u001b[1;32mif\u001b[0m \u001b[0mself\u001b[0m\u001b[1;33m.\u001b[0m\u001b[0mcolumns\u001b[0m\u001b[1;33m.\u001b[0m\u001b[0mnlevels\u001b[0m \u001b[1;33m>\u001b[0m \u001b[1;36m1\u001b[0m\u001b[1;33m:\u001b[0m\u001b[1;33m\u001b[0m\u001b[1;33m\u001b[0m\u001b[0m\n\u001b[0;32m   2979\u001b[0m                 \u001b[1;32mreturn\u001b[0m \u001b[0mself\u001b[0m\u001b[1;33m.\u001b[0m\u001b[0m_getitem_multilevel\u001b[0m\u001b[1;33m(\u001b[0m\u001b[0mkey\u001b[0m\u001b[1;33m)\u001b[0m\u001b[1;33m\u001b[0m\u001b[1;33m\u001b[0m\u001b[0m\n\u001b[1;32m-> 2980\u001b[1;33m             \u001b[0mindexer\u001b[0m \u001b[1;33m=\u001b[0m \u001b[0mself\u001b[0m\u001b[1;33m.\u001b[0m\u001b[0mcolumns\u001b[0m\u001b[1;33m.\u001b[0m\u001b[0mget_loc\u001b[0m\u001b[1;33m(\u001b[0m\u001b[0mkey\u001b[0m\u001b[1;33m)\u001b[0m\u001b[1;33m\u001b[0m\u001b[1;33m\u001b[0m\u001b[0m\n\u001b[0m\u001b[0;32m   2981\u001b[0m             \u001b[1;32mif\u001b[0m \u001b[0mis_integer\u001b[0m\u001b[1;33m(\u001b[0m\u001b[0mindexer\u001b[0m\u001b[1;33m)\u001b[0m\u001b[1;33m:\u001b[0m\u001b[1;33m\u001b[0m\u001b[1;33m\u001b[0m\u001b[0m\n\u001b[0;32m   2982\u001b[0m                 \u001b[0mindexer\u001b[0m \u001b[1;33m=\u001b[0m \u001b[1;33m[\u001b[0m\u001b[0mindexer\u001b[0m\u001b[1;33m]\u001b[0m\u001b[1;33m\u001b[0m\u001b[1;33m\u001b[0m\u001b[0m\n",
      "\u001b[1;32m~\\Anaconda3\\lib\\site-packages\\pandas\\core\\indexes\\base.py\u001b[0m in \u001b[0;36mget_loc\u001b[1;34m(self, key, method, tolerance)\u001b[0m\n\u001b[0;32m   2895\u001b[0m                 )\n\u001b[0;32m   2896\u001b[0m             \u001b[1;32mtry\u001b[0m\u001b[1;33m:\u001b[0m\u001b[1;33m\u001b[0m\u001b[1;33m\u001b[0m\u001b[0m\n\u001b[1;32m-> 2897\u001b[1;33m                 \u001b[1;32mreturn\u001b[0m \u001b[0mself\u001b[0m\u001b[1;33m.\u001b[0m\u001b[0m_engine\u001b[0m\u001b[1;33m.\u001b[0m\u001b[0mget_loc\u001b[0m\u001b[1;33m(\u001b[0m\u001b[0mkey\u001b[0m\u001b[1;33m)\u001b[0m\u001b[1;33m\u001b[0m\u001b[1;33m\u001b[0m\u001b[0m\n\u001b[0m\u001b[0;32m   2898\u001b[0m             \u001b[1;32mexcept\u001b[0m \u001b[0mKeyError\u001b[0m\u001b[1;33m:\u001b[0m\u001b[1;33m\u001b[0m\u001b[1;33m\u001b[0m\u001b[0m\n\u001b[0;32m   2899\u001b[0m                 \u001b[1;32mreturn\u001b[0m \u001b[0mself\u001b[0m\u001b[1;33m.\u001b[0m\u001b[0m_engine\u001b[0m\u001b[1;33m.\u001b[0m\u001b[0mget_loc\u001b[0m\u001b[1;33m(\u001b[0m\u001b[0mself\u001b[0m\u001b[1;33m.\u001b[0m\u001b[0m_maybe_cast_indexer\u001b[0m\u001b[1;33m(\u001b[0m\u001b[0mkey\u001b[0m\u001b[1;33m)\u001b[0m\u001b[1;33m)\u001b[0m\u001b[1;33m\u001b[0m\u001b[1;33m\u001b[0m\u001b[0m\n",
      "\u001b[1;32mpandas\\_libs\\index.pyx\u001b[0m in \u001b[0;36mpandas._libs.index.IndexEngine.get_loc\u001b[1;34m()\u001b[0m\n",
      "\u001b[1;32mpandas\\_libs\\index.pyx\u001b[0m in \u001b[0;36mpandas._libs.index.IndexEngine.get_loc\u001b[1;34m()\u001b[0m\n",
      "\u001b[1;31mTypeError\u001b[0m: '(slice(None, None, None), 0)' is an invalid key"
     ]
    }
   ],
   "source": [
    "print(test[:,0])"
   ]
  },
  {
   "cell_type": "code",
   "execution_count": 14,
   "metadata": {},
   "outputs": [],
   "source": [
    "y_test = test_set[:,0]"
   ]
  },
  {
   "cell_type": "code",
   "execution_count": 16,
   "metadata": {},
   "outputs": [
    {
     "name": "stdout",
     "output_type": "stream",
     "text": [
      "8.0\n"
     ]
    }
   ],
   "source": [
    "print(y_test[100])"
   ]
  },
  {
   "cell_type": "code",
   "execution_count": 12,
   "metadata": {},
   "outputs": [],
   "source": [
    "class_names = ['A', 'B', 'C', 'D', 'E', 'F', 'G', 'H', 'I', 'J', 'K', 'L', 'M', 'N', 'O', 'P', 'Q', 'R', 'S', 'T', 'U', 'V', 'W', 'X', 'Y' ]"
   ]
  },
  {
   "cell_type": "code",
   "execution_count": 7,
   "metadata": {},
   "outputs": [
    {
     "data": {
      "text/plain": [
       "(-0.5, 27.5, 27.5, -0.5)"
      ]
     },
     "execution_count": 7,
     "metadata": {},
     "output_type": "execute_result"
    },
    {
     "data": {
      "image/png": "[encoded data removed]",
      "text/plain": [
       "<Figure size 432x288 with 1 Axes>"
      ]
     },
     "metadata": {
      "needs_background": "light"
     },
     "output_type": "display_data"
    }
   ],
   "source": [
    "i = 100\n",
    "plt.imshow(train_set[i,1:].reshape((28,28))) \n",
    "plt.imshow(train_set[i,1:].reshape((28,28))) \n",
    "\n",
    "\n",
    "plt.axis('off')"
   ]
  },
  {
   "cell_type": "code",
   "execution_count": 10,
   "metadata": {},
   "outputs": [],
   "source": [
    "X_train = train_set[:, 1:] / 255\n",
    "y_train = train_set[:, 0]\n",
    "\n",
    "X_test = test_set[:, 1:] / 255\n",
    "y_test = test_set[:,0]"
   ]
  },
  {
   "cell_type": "code",
   "execution_count": 13,
   "metadata": {},
   "outputs": [
    {
     "data": {
      "image/png": "[encoded data removed]",
      "text/plain": [
       "<Figure size 720x720 with 25 Axes>"
      ]
     },
     "metadata": {},
     "output_type": "display_data"
    }
   ],
   "source": [
    "plt.figure(figsize=(10, 10))\n",
    "for i in range(25):\n",
    "    plt.subplot(5, 5, i + 1)\n",
    "    plt.xticks([])\n",
    "    plt.yticks([])\n",
    "    plt.grid(False)\n",
    "    plt.imshow(X_train[i].reshape((28,28)), cmap=plt.cm.binary)\n",
    "    label_index = int(y_train[i])\n",
    "    plt.title(class_names[label_index])\n",
    "plt.show()"
   ]
  },
  {
   "cell_type": "code",
   "execution_count": 21,
   "metadata": {},
   "outputs": [],
   "source": [
    "from sklearn.model_selection import train_test_split\n",
    "X_train, X_validate, y_train, y_validate = train_test_split(X_train, y_train, test_size = 0.2, random_state = 12345)"
   ]
  },
  {
   "cell_type": "code",
   "execution_count": 22,
   "metadata": {},
   "outputs": [
    {
     "name": "stdout",
     "output_type": "stream",
     "text": [
      "(21964, 784)\n",
      "(21964,)\n"
     ]
    }
   ],
   "source": [
    "print(X_train.shape)\n",
    "print(y_train.shape)"
   ]
  },
  {
   "cell_type": "code",
   "execution_count": 23,
   "metadata": {},
   "outputs": [
    {
     "name": "stdout",
     "output_type": "stream",
     "text": [
      "(21964, 28, 28, 1)\n",
      "(21964,)\n",
      "(5491, 28, 28, 1)\n"
     ]
    }
   ],
   "source": [
    "X_train = X_train.reshape(X_train.shape[0], *(28, 28, 1))\n",
    "X_test = X_test.reshape(X_test.shape[0], *(28, 28, 1))\n",
    "X_validate = X_validate.reshape(X_validate.shape[0], *(28, 28, 1))\n",
    "\n",
    "print(X_train.shape)\n",
    "print(y_train.shape)\n",
    "print(X_validate.shape)\n"
   ]
  },
  {
   "cell_type": "code",
   "execution_count": 4,
   "metadata": {},
   "outputs": [
    {
     "ename": "ModuleNotFoundError",
     "evalue": "No module named 'tensorflow'",
     "output_type": "error",
     "traceback": [
      "\u001b[1;31m---------------------------------------------------------------------------\u001b[0m",
      "\u001b[1;31mModuleNotFoundError\u001b[0m                       Traceback (most recent call last)",
      "\u001b[1;32m<ipython-input-4-73c194c676f5>\u001b[0m in \u001b[0;36m<module>\u001b[1;34m\u001b[0m\n\u001b[0;32m      3\u001b[0m \u001b[1;31m#### THEN WE CAN TRY TO IMPLEMENT CONV LAYERS #### (A1,A2,A3,A4)\u001b[0m\u001b[1;33m\u001b[0m\u001b[1;33m\u001b[0m\u001b[1;33m\u001b[0m\u001b[0m\n\u001b[0;32m      4\u001b[0m \u001b[1;33m\u001b[0m\u001b[0m\n\u001b[1;32m----> 5\u001b[1;33m \u001b[1;32mimport\u001b[0m \u001b[0mtensorflow\u001b[0m\u001b[1;33m\u001b[0m\u001b[1;33m\u001b[0m\u001b[0m\n\u001b[0m\u001b[0;32m      6\u001b[0m \u001b[1;32mfrom\u001b[0m \u001b[0mtensorflow\u001b[0m\u001b[1;33m.\u001b[0m\u001b[0mkeras\u001b[0m\u001b[1;33m.\u001b[0m\u001b[0mmodels\u001b[0m \u001b[1;32mimport\u001b[0m \u001b[0mSequential\u001b[0m\u001b[1;33m\u001b[0m\u001b[1;33m\u001b[0m\u001b[0m\n\u001b[0;32m      7\u001b[0m \u001b[1;32mfrom\u001b[0m \u001b[0mtensorflow\u001b[0m\u001b[1;33m.\u001b[0m\u001b[0mkeras\u001b[0m\u001b[1;33m.\u001b[0m\u001b[0mlayers\u001b[0m \u001b[1;32mimport\u001b[0m \u001b[0mConv2D\u001b[0m\u001b[1;33m,\u001b[0m \u001b[0mMaxPooling2D\u001b[0m\u001b[1;33m,\u001b[0m \u001b[0mDense\u001b[0m\u001b[1;33m,\u001b[0m \u001b[0mFlatten\u001b[0m\u001b[1;33m,\u001b[0m \u001b[0mDropout\u001b[0m\u001b[1;33m\u001b[0m\u001b[1;33m\u001b[0m\u001b[0m\n",
      "\u001b[1;31mModuleNotFoundError\u001b[0m: No module named 'tensorflow'"
     ]
    }
   ],
   "source": [
    "##### THE COMPLETE MODEL IN PYTHO N###\n",
    "#### WE WILL FIRST TRY TO IMPLEMENT THE LAST TWO DENSE LAYERS NOW IN VERILOG ####\n",
    "#### THEN WE CAN TRY TO IMPLEMENT CONV LAYERS #### (A1,A2,A3,A4)\n",
    "\n",
    "import tensorflow\n",
    "from tensorflow.keras.models import Sequential\n",
    "from tensorflow.keras.layers import Conv2D, MaxPooling2D, Dense, Flatten, Dropout\n",
    "from tensorflow.keras.optimizers import Adam\n",
    "from tensorflow.keras.callbacks import TensorBoard\n",
    "\n",
    "#Defining the Convolutional Neural Network\n",
    "cnn_model = Sequential()\n",
    "\n",
    "cnn_model.add(Conv2D(32, (3, 3), input_shape = (28,28,1), activation='relu'))\n",
    "cnn_model.add(MaxPooling2D(pool_size = (2, 2)))\n",
    "cnn_model.add(Dropout(0.25))\n",
    "\n",
    "cnn_model.add(Conv2D(64, (3, 3), input_shape = (28,28,1), activation='relu'))\n",
    "cnn_model.add(MaxPooling2D(pool_size = (2, 2)))\n",
    "cnn_model.add(Dropout(0.25))\n",
    "\n",
    "cnn_model.add(Conv2D(128, (3, 3), input_shape = (28,28,1), activation='relu'))\n",
    "cnn_model.add(MaxPooling2D(pool_size = (2, 2)))\n",
    "cnn_model.add(Dropout(0.25))\n",
    "\n",
    "cnn_model.add(Flatten()) # the output of this layer will be given to the system\n",
    "\n",
    "cnn_model.add(Dense(units = 512, activation = 'relu',use_bias = False)) \n",
    "cnn_model.add(Dense(units = 25, activation = 'softmax', use_bias = False))"
   ]
  },
  {
   "cell_type": "code",
   "execution_count": 75,
   "metadata": {},
   "outputs": [
    {
     "name": "stdout",
     "output_type": "stream",
     "text": [
      "Model: \"sequential_2\"\n",
      "_________________________________________________________________\n",
      "Layer (type)                 Output Shape              Param #   \n",
      "=================================================================\n",
      "conv2d_6 (Conv2D)            (None, 26, 26, 32)        320       \n",
      "_________________________________________________________________\n",
      "max_pooling2d_6 (MaxPooling2 (None, 13, 13, 32)        0         \n",
      "_________________________________________________________________\n",
      "dropout_7 (Dropout)          (None, 13, 13, 32)        0         \n",
      "_________________________________________________________________\n",
      "conv2d_7 (Conv2D)            (None, 11, 11, 64)        18496     \n",
      "_________________________________________________________________\n",
      "max_pooling2d_7 (MaxPooling2 (None, 5, 5, 64)          0         \n",
      "_________________________________________________________________\n",
      "dropout_8 (Dropout)          (None, 5, 5, 64)          0         \n",
      "_________________________________________________________________\n",
      "conv2d_8 (Conv2D)            (None, 3, 3, 128)         73856     \n",
      "_________________________________________________________________\n",
      "max_pooling2d_8 (MaxPooling2 (None, 1, 1, 128)         0         \n",
      "_________________________________________________________________\n",
      "dropout_9 (Dropout)          (None, 1, 1, 128)         0         \n",
      "_________________________________________________________________\n",
      "flatten_2 (Flatten)          (None, 128)               0         \n",
      "_________________________________________________________________\n",
      "dense_4 (Dense)              (None, 512)               65536     \n",
      "_________________________________________________________________\n",
      "dense_5 (Dense)              (None, 25)                12800     \n",
      "=================================================================\n",
      "Total params: 171,008\n",
      "Trainable params: 171,008\n",
      "Non-trainable params: 0\n",
      "_________________________________________________________________\n"
     ]
    }
   ],
   "source": [
    "cnn_model.summary()"
   ]
  },
  {
   "cell_type": "code",
   "execution_count": 76,
   "metadata": {},
   "outputs": [
    {
     "name": "stdout",
     "output_type": "stream",
     "text": [
      "Epoch 1/50\n",
      "43/43 [==============================] - 8s 177ms/step - loss: 3.1866 - accuracy: 0.0509 - val_loss: 2.9734 - val_accuracy: 0.1266\n",
      "Epoch 2/50\n",
      "43/43 [==============================] - 7s 158ms/step - loss: 2.7979 - accuracy: 0.1436 - val_loss: 2.2324 - val_accuracy: 0.3178\n",
      "Epoch 3/50\n",
      "43/43 [==============================] - 7s 155ms/step - loss: 2.1303 - accuracy: 0.3142 - val_loss: 1.6099 - val_accuracy: 0.4875\n",
      "Epoch 4/50\n",
      "43/43 [==============================] - 7s 155ms/step - loss: 1.6350 - accuracy: 0.4662 - val_loss: 1.1042 - val_accuracy: 0.6578\n",
      "Epoch 5/50\n",
      "43/43 [==============================] - 7s 152ms/step - loss: 1.2389 - accuracy: 0.5838 - val_loss: 0.7839 - val_accuracy: 0.7618\n",
      "Epoch 6/50\n",
      "43/43 [==============================] - 7s 153ms/step - loss: 0.9416 - accuracy: 0.6778 - val_loss: 0.5850 - val_accuracy: 0.8352\n",
      "Epoch 7/50\n",
      "43/43 [==============================] - 7s 153ms/step - loss: 0.7742 - accuracy: 0.7388 - val_loss: 0.4244 - val_accuracy: 0.8765\n",
      "Epoch 8/50\n",
      "43/43 [==============================] - 7s 153ms/step - loss: 0.6221 - accuracy: 0.7893 - val_loss: 0.3332 - val_accuracy: 0.9140\n",
      "Epoch 9/50\n",
      "43/43 [==============================] - 7s 153ms/step - loss: 0.5301 - accuracy: 0.8182 - val_loss: 0.2544 - val_accuracy: 0.9363\n",
      "Epoch 10/50\n",
      "43/43 [==============================] - 7s 153ms/step - loss: 0.4483 - accuracy: 0.8452 - val_loss: 0.1982 - val_accuracy: 0.9587\n",
      "Epoch 11/50\n",
      "43/43 [==============================] - 7s 161ms/step - loss: 0.3844 - accuracy: 0.8690 - val_loss: 0.1446 - val_accuracy: 0.9729\n",
      "Epoch 12/50\n",
      "43/43 [==============================] - 7s 170ms/step - loss: 0.3399 - accuracy: 0.8848 - val_loss: 0.1152 - val_accuracy: 0.9747\n",
      "Epoch 13/50\n",
      "43/43 [==============================] - 7s 160ms/step - loss: 0.2959 - accuracy: 0.9007 - val_loss: 0.0906 - val_accuracy: 0.9838\n",
      "Epoch 14/50\n",
      "43/43 [==============================] - 7s 154ms/step - loss: 0.2628 - accuracy: 0.9116 - val_loss: 0.0755 - val_accuracy: 0.9883\n",
      "Epoch 15/50\n",
      "43/43 [==============================] - 7s 158ms/step - loss: 0.2233 - accuracy: 0.9282 - val_loss: 0.0582 - val_accuracy: 0.9942\n",
      "Epoch 16/50\n",
      "43/43 [==============================] - 7s 154ms/step - loss: 0.1987 - accuracy: 0.9353 - val_loss: 0.0477 - val_accuracy: 0.9947\n",
      "Epoch 17/50\n",
      "43/43 [==============================] - 7s 156ms/step - loss: 0.1708 - accuracy: 0.9457 - val_loss: 0.0366 - val_accuracy: 0.9975\n",
      "Epoch 18/50\n",
      "43/43 [==============================] - 7s 156ms/step - loss: 0.1598 - accuracy: 0.9470 - val_loss: 0.0318 - val_accuracy: 0.9971\n",
      "Epoch 19/50\n",
      "43/43 [==============================] - 7s 161ms/step - loss: 0.1493 - accuracy: 0.9503 - val_loss: 0.0252 - val_accuracy: 0.9993\n",
      "Epoch 20/50\n",
      "43/43 [==============================] - 7s 169ms/step - loss: 0.1422 - accuracy: 0.9530 - val_loss: 0.0214 - val_accuracy: 0.9996\n",
      "Epoch 21/50\n",
      "43/43 [==============================] - 8s 181ms/step - loss: 0.1249 - accuracy: 0.9603 - val_loss: 0.0169 - val_accuracy: 0.9995\n",
      "Epoch 22/50\n",
      "43/43 [==============================] - 7s 165ms/step - loss: 0.1164 - accuracy: 0.9626 - val_loss: 0.0162 - val_accuracy: 0.9996\n",
      "Epoch 23/50\n",
      "43/43 [==============================] - 7s 154ms/step - loss: 0.1085 - accuracy: 0.9669 - val_loss: 0.0120 - val_accuracy: 0.9996\n",
      "Epoch 24/50\n",
      "43/43 [==============================] - 7s 159ms/step - loss: 0.0981 - accuracy: 0.9693 - val_loss: 0.0102 - val_accuracy: 1.0000\n",
      "Epoch 25/50\n",
      "43/43 [==============================] - 7s 160ms/step - loss: 0.0876 - accuracy: 0.9737 - val_loss: 0.0091 - val_accuracy: 0.9998\n",
      "Epoch 26/50\n",
      "43/43 [==============================] - 7s 155ms/step - loss: 0.0806 - accuracy: 0.9744 - val_loss: 0.0066 - val_accuracy: 1.0000\n",
      "Epoch 27/50\n",
      "43/43 [==============================] - 7s 154ms/step - loss: 0.0819 - accuracy: 0.9748 - val_loss: 0.0061 - val_accuracy: 1.0000\n",
      "Epoch 28/50\n",
      "43/43 [==============================] - 7s 157ms/step - loss: 0.0763 - accuracy: 0.9759 - val_loss: 0.0053 - val_accuracy: 1.0000\n",
      "Epoch 29/50\n",
      "43/43 [==============================] - 7s 156ms/step - loss: 0.0674 - accuracy: 0.9798 - val_loss: 0.0047 - val_accuracy: 0.9998\n",
      "Epoch 30/50\n",
      "43/43 [==============================] - 7s 158ms/step - loss: 0.0657 - accuracy: 0.9789 - val_loss: 0.0053 - val_accuracy: 0.9998\n",
      "Epoch 31/50\n",
      "43/43 [==============================] - 7s 161ms/step - loss: 0.0626 - accuracy: 0.9808 - val_loss: 0.0035 - val_accuracy: 1.0000\n",
      "Epoch 32/50\n",
      "43/43 [==============================] - 7s 163ms/step - loss: 0.0620 - accuracy: 0.9806 - val_loss: 0.0039 - val_accuracy: 0.9998\n",
      "Epoch 33/50\n",
      "43/43 [==============================] - 7s 158ms/step - loss: 0.0608 - accuracy: 0.9806 - val_loss: 0.0034 - val_accuracy: 0.9998\n",
      "Epoch 34/50\n",
      "43/43 [==============================] - 7s 157ms/step - loss: 0.0508 - accuracy: 0.9856 - val_loss: 0.0029 - val_accuracy: 1.0000\n",
      "Epoch 35/50\n",
      "43/43 [==============================] - 7s 156ms/step - loss: 0.0536 - accuracy: 0.9836 - val_loss: 0.0026 - val_accuracy: 0.9998\n",
      "Epoch 36/50\n",
      "43/43 [==============================] - 7s 160ms/step - loss: 0.0481 - accuracy: 0.9863 - val_loss: 0.0027 - val_accuracy: 1.0000\n",
      "Epoch 37/50\n",
      "43/43 [==============================] - 7s 159ms/step - loss: 0.0500 - accuracy: 0.9838 - val_loss: 0.0033 - val_accuracy: 1.0000\n",
      "Epoch 38/50\n",
      "43/43 [==============================] - 7s 157ms/step - loss: 0.0449 - accuracy: 0.9867 - val_loss: 0.0015 - val_accuracy: 1.0000\n",
      "Epoch 39/50\n",
      "43/43 [==============================] - 7s 168ms/step - loss: 0.0407 - accuracy: 0.9876 - val_loss: 0.0018 - val_accuracy: 0.9998\n",
      "Epoch 40/50\n",
      "43/43 [==============================] - 7s 171ms/step - loss: 0.0450 - accuracy: 0.9853 - val_loss: 0.0015 - val_accuracy: 1.0000\n",
      "Epoch 41/50\n",
      "43/43 [==============================] - 8s 191ms/step - loss: 0.0444 - accuracy: 0.9868 - val_loss: 0.0024 - val_accuracy: 1.0000\n",
      "Epoch 42/50\n",
      "43/43 [==============================] - 7s 167ms/step - loss: 0.0381 - accuracy: 0.9897 - val_loss: 9.7403e-04 - val_accuracy: 1.0000\n",
      "Epoch 43/50\n",
      "43/43 [==============================] - 7s 159ms/step - loss: 0.0372 - accuracy: 0.9891 - val_loss: 9.1827e-04 - val_accuracy: 1.0000\n",
      "Epoch 44/50\n",
      "43/43 [==============================] - 7s 153ms/step - loss: 0.0382 - accuracy: 0.9877 - val_loss: 9.3861e-04 - val_accuracy: 1.0000\n",
      "Epoch 45/50\n",
      "43/43 [==============================] - 7s 163ms/step - loss: 0.0338 - accuracy: 0.9895 - val_loss: 0.0012 - val_accuracy: 1.0000\n",
      "Epoch 46/50\n",
      "43/43 [==============================] - 7s 160ms/step - loss: 0.0360 - accuracy: 0.9893 - val_loss: 8.9221e-04 - val_accuracy: 1.0000\n",
      "Epoch 47/50\n",
      "43/43 [==============================] - 7s 162ms/step - loss: 0.0300 - accuracy: 0.9906 - val_loss: 0.0010 - val_accuracy: 0.9998\n",
      "Epoch 48/50\n",
      "43/43 [==============================] - 7s 158ms/step - loss: 0.0318 - accuracy: 0.9908 - val_loss: 7.3272e-04 - val_accuracy: 1.0000\n",
      "Epoch 49/50\n",
      "43/43 [==============================] - 7s 157ms/step - loss: 0.0386 - accuracy: 0.9876 - val_loss: 8.6286e-04 - val_accuracy: 1.0000\n",
      "Epoch 50/50\n",
      "43/43 [==============================] - 7s 170ms/step - loss: 0.0308 - accuracy: 0.9905 - val_loss: 7.4221e-04 - val_accuracy: 1.0000\n"
     ]
    }
   ],
   "source": [
    "cnn_model.compile(loss ='sparse_categorical_crossentropy', optimizer='adam' ,metrics =['accuracy'])\n",
    "\n",
    "\n",
    "#Training the CNN model\n",
    "history = cnn_model.fit(X_train, y_train, batch_size = 512, epochs = 50, verbose = 1, validation_data = (X_validate, y_validate))"
   ]
  }
 ],
 "metadata": {
  "kernelspec": {
   "display_name": "Python 3",
   "language": "python",
   "name": "python3"
  },
  "language_info": {
   "codemirror_mode": {
    "name": "ipython",
    "version": 3
   },
   "file_extension": ".py",
   "mimetype": "text/x-python",
   "name": "python",
   "nbconvert_exporter": "python",
   "pygments_lexer": "ipython3",
   "version": "3.7.4"
  }
 },
 "nbformat": 4,
 "nbformat_minor": 2
}
